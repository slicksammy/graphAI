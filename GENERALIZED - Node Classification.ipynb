{
 "cells": [
  {
   "cell_type": "code",
   "execution_count": 1,
   "metadata": {},
   "outputs": [
    {
     "name": "stderr",
     "output_type": "stream",
     "text": [
      "Using backend: pytorch\n"
     ]
    }
   ],
   "source": [
    "import dgl\n",
    "import torch\n",
    "import torch.nn as nn\n",
    "import torch.nn.functional as F\n",
    "import pandas as pd\n",
    "import numpy as np\n",
    "from dgl.data import RedditDataset"
   ]
  },
  {
   "cell_type": "markdown",
   "metadata": {},
   "source": [
    "# Read Dataset"
   ]
  },
  {
   "cell_type": "code",
   "execution_count": 3,
   "metadata": {},
   "outputs": [],
   "source": [
    "dataset = RedditDataset()\n",
    "g = dataset[0]"
   ]
  },
  {
   "cell_type": "code",
   "execution_count": 4,
   "metadata": {},
   "outputs": [
    {
     "name": "stdout",
     "output_type": "stream",
     "text": [
      "Number of categories: 41\n",
      "Node features\n",
      "{'label': tensor([30, 17, 18,  ...,  3, 13, 13]), 'feat': tensor([[ 1.2334,  9.0430, -0.9233,  ..., -0.2579,  0.3112, -0.3772],\n",
      "        [-0.1386, -0.2022,  0.1277,  ...,  0.1563,  0.1048, -0.6534],\n",
      "        [-0.1330, -0.1962, -0.0296,  ...,  0.0358,  0.2864,  0.2744],\n",
      "        ...,\n",
      "        [-0.0614, -0.2022,  0.9698,  ...,  1.1064, -1.4323, -0.2398],\n",
      "        [-0.1606, -0.2022, -0.0892,  ...,  0.7440, -0.5046, -2.2288],\n",
      "        [ 0.0929,  0.2822,  0.1768,  ...,  0.2196,  0.5967,  0.5588]]), 'test_mask': tensor([ True, False,  True,  ..., False, False,  True]), 'train_mask': tensor([False,  True, False,  ...,  True,  True, False]), 'val_mask': tensor([False, False, False,  ..., False, False, False])}\n",
      "Edge features\n",
      "{}\n",
      "Edges\n",
      "(tensor([     0,      0,      0,  ..., 232920, 232931, 232952]), tensor([225202, 177307, 107546,  ..., 232897, 232907, 232910]))\n"
     ]
    }
   ],
   "source": [
    "print(\"Number of categories:\", dataset.num_classes)\n",
    "print(\"Node features\")\n",
    "print(g.ndata)\n",
    "print(\"Edge features\")\n",
    "print(g.edata)\n",
    "print(\"Edges\")\n",
    "print(g.edges())"
   ]
  },
  {
   "cell_type": "markdown",
   "metadata": {},
   "source": [
    "### Assume that we will be reading in the data from csv files"
   ]
  },
  {
   "cell_type": "markdown",
   "metadata": {},
   "source": [
    "##### First, Save the node and edge data to csv files"
   ]
  },
  {
   "cell_type": "code",
   "execution_count": 11,
   "metadata": {},
   "outputs": [
    {
     "name": "stdout",
     "output_type": "stream",
     "text": [
      "Data count: 232965\n"
     ]
    }
   ],
   "source": [
    "node_features = g.ndata['feat'].tolist()\n",
    "node_labels = g.ndata['label'].tolist()\n",
    "print(\"Data count:\", len(node_features))\n",
    "\n",
    "node_df = pd.DataFrame(node_features)\n",
    "node_df['node_ID'] = range(len(node_features))\n",
    "node_df['label'] = node_labels\n",
    "node_df.to_csv('data/reddit_nodes.csv', index=False)"
   ]
  },
  {
   "cell_type": "code",
   "execution_count": 12,
   "metadata": {},
   "outputs": [],
   "source": [
    "from_nodes = g.edges()[0].tolist()\n",
    "to_nodes = g.edges()[1].tolist()\n",
    "edge_df = pd.DataFrame()\n",
    "edge_df['from_node'] = from_nodes\n",
    "edge_df['to_node'] = to_nodes\n",
    "edge_df.to_csv('data/reddit_edges.csv', index=True, index_label=\"edge_ID\")"
   ]
  },
  {
   "cell_type": "markdown",
   "metadata": {},
   "source": [
    "##### Read again from the csv files\n",
    "\n",
    "Reference: https://github.com/dglai/WWW20-Hands-on-Tutorial/blob/master/basic_tasks/1_load_data.ipynb"
   ]
  },
  {
   "cell_type": "code",
   "execution_count": 10,
   "metadata": {},
   "outputs": [],
   "source": [
    "node_df = pd.read_csv(\"../data/reddit_nodes.csv\").set_index('node_ID')\n",
    "edge_df = pd.read_csv(\"../data/reddit_edges.csv\").set_index(\"edge_ID\")"
   ]
  },
  {
   "cell_type": "code",
   "execution_count": 11,
   "metadata": {},
   "outputs": [
    {
     "data": {
      "text/html": [
       "<div>\n",
       "<style scoped>\n",
       "    .dataframe tbody tr th:only-of-type {\n",
       "        vertical-align: middle;\n",
       "    }\n",
       "\n",
       "    .dataframe tbody tr th {\n",
       "        vertical-align: top;\n",
       "    }\n",
       "\n",
       "    .dataframe thead th {\n",
       "        text-align: right;\n",
       "    }\n",
       "</style>\n",
       "<table border=\"1\" class=\"dataframe\">\n",
       "  <thead>\n",
       "    <tr style=\"text-align: right;\">\n",
       "      <th></th>\n",
       "      <th>0</th>\n",
       "      <th>1</th>\n",
       "      <th>2</th>\n",
       "      <th>3</th>\n",
       "      <th>4</th>\n",
       "      <th>5</th>\n",
       "      <th>6</th>\n",
       "      <th>7</th>\n",
       "      <th>8</th>\n",
       "      <th>9</th>\n",
       "      <th>...</th>\n",
       "      <th>593</th>\n",
       "      <th>594</th>\n",
       "      <th>595</th>\n",
       "      <th>596</th>\n",
       "      <th>597</th>\n",
       "      <th>598</th>\n",
       "      <th>599</th>\n",
       "      <th>600</th>\n",
       "      <th>601</th>\n",
       "      <th>label</th>\n",
       "    </tr>\n",
       "    <tr>\n",
       "      <th>node_ID</th>\n",
       "      <th></th>\n",
       "      <th></th>\n",
       "      <th></th>\n",
       "      <th></th>\n",
       "      <th></th>\n",
       "      <th></th>\n",
       "      <th></th>\n",
       "      <th></th>\n",
       "      <th></th>\n",
       "      <th></th>\n",
       "      <th></th>\n",
       "      <th></th>\n",
       "      <th></th>\n",
       "      <th></th>\n",
       "      <th></th>\n",
       "      <th></th>\n",
       "      <th></th>\n",
       "      <th></th>\n",
       "      <th></th>\n",
       "      <th></th>\n",
       "      <th></th>\n",
       "    </tr>\n",
       "  </thead>\n",
       "  <tbody>\n",
       "    <tr>\n",
       "      <th>0</th>\n",
       "      <td>1.233415</td>\n",
       "      <td>9.043012</td>\n",
       "      <td>-0.923280</td>\n",
       "      <td>1.054183</td>\n",
       "      <td>-1.112501</td>\n",
       "      <td>-0.020630</td>\n",
       "      <td>0.042540</td>\n",
       "      <td>2.152007</td>\n",
       "      <td>-0.908296</td>\n",
       "      <td>0.713842</td>\n",
       "      <td>...</td>\n",
       "      <td>-0.457901</td>\n",
       "      <td>0.002277</td>\n",
       "      <td>-0.178169</td>\n",
       "      <td>0.095668</td>\n",
       "      <td>-0.497469</td>\n",
       "      <td>-0.443911</td>\n",
       "      <td>-0.257895</td>\n",
       "      <td>0.311193</td>\n",
       "      <td>-0.377212</td>\n",
       "      <td>30</td>\n",
       "    </tr>\n",
       "    <tr>\n",
       "      <th>1</th>\n",
       "      <td>-0.138552</td>\n",
       "      <td>-0.202219</td>\n",
       "      <td>0.127716</td>\n",
       "      <td>-0.418801</td>\n",
       "      <td>0.106761</td>\n",
       "      <td>0.302031</td>\n",
       "      <td>-0.936621</td>\n",
       "      <td>-0.980957</td>\n",
       "      <td>-0.098751</td>\n",
       "      <td>0.629780</td>\n",
       "      <td>...</td>\n",
       "      <td>0.238544</td>\n",
       "      <td>0.461295</td>\n",
       "      <td>0.114464</td>\n",
       "      <td>-0.408528</td>\n",
       "      <td>-0.331293</td>\n",
       "      <td>0.854006</td>\n",
       "      <td>0.156271</td>\n",
       "      <td>0.104781</td>\n",
       "      <td>-0.653420</td>\n",
       "      <td>17</td>\n",
       "    </tr>\n",
       "    <tr>\n",
       "      <th>2</th>\n",
       "      <td>-0.133042</td>\n",
       "      <td>-0.196239</td>\n",
       "      <td>-0.029560</td>\n",
       "      <td>0.306849</td>\n",
       "      <td>0.073840</td>\n",
       "      <td>1.347005</td>\n",
       "      <td>0.695408</td>\n",
       "      <td>-0.657161</td>\n",
       "      <td>1.141495</td>\n",
       "      <td>-1.337327</td>\n",
       "      <td>...</td>\n",
       "      <td>0.989196</td>\n",
       "      <td>-1.283592</td>\n",
       "      <td>-1.252432</td>\n",
       "      <td>-1.707226</td>\n",
       "      <td>-0.860897</td>\n",
       "      <td>0.809932</td>\n",
       "      <td>0.035802</td>\n",
       "      <td>0.286367</td>\n",
       "      <td>0.274413</td>\n",
       "      <td>18</td>\n",
       "    </tr>\n",
       "    <tr>\n",
       "      <th>3</th>\n",
       "      <td>-0.138552</td>\n",
       "      <td>-0.202219</td>\n",
       "      <td>0.183453</td>\n",
       "      <td>0.567036</td>\n",
       "      <td>0.372372</td>\n",
       "      <td>-0.131731</td>\n",
       "      <td>-0.129563</td>\n",
       "      <td>0.387311</td>\n",
       "      <td>1.669948</td>\n",
       "      <td>0.048453</td>\n",
       "      <td>...</td>\n",
       "      <td>-1.396239</td>\n",
       "      <td>0.010100</td>\n",
       "      <td>0.204658</td>\n",
       "      <td>-0.495959</td>\n",
       "      <td>-0.329710</td>\n",
       "      <td>-0.363401</td>\n",
       "      <td>-0.440687</td>\n",
       "      <td>0.006481</td>\n",
       "      <td>0.103306</td>\n",
       "      <td>23</td>\n",
       "    </tr>\n",
       "    <tr>\n",
       "      <th>4</th>\n",
       "      <td>-0.155081</td>\n",
       "      <td>0.013065</td>\n",
       "      <td>-0.986740</td>\n",
       "      <td>1.667574</td>\n",
       "      <td>1.596521</td>\n",
       "      <td>-0.296647</td>\n",
       "      <td>-0.056293</td>\n",
       "      <td>0.792982</td>\n",
       "      <td>-0.782269</td>\n",
       "      <td>0.740889</td>\n",
       "      <td>...</td>\n",
       "      <td>-0.517946</td>\n",
       "      <td>-0.264403</td>\n",
       "      <td>0.521236</td>\n",
       "      <td>1.056790</td>\n",
       "      <td>-0.498133</td>\n",
       "      <td>0.213124</td>\n",
       "      <td>-1.222432</td>\n",
       "      <td>-0.916983</td>\n",
       "      <td>0.488467</td>\n",
       "      <td>22</td>\n",
       "    </tr>\n",
       "  </tbody>\n",
       "</table>\n",
       "<p>5 rows × 603 columns</p>\n",
       "</div>"
      ],
      "text/plain": [
       "                0         1         2         3         4         5         6  \\\n",
       "node_ID                                                                         \n",
       "0        1.233415  9.043012 -0.923280  1.054183 -1.112501 -0.020630  0.042540   \n",
       "1       -0.138552 -0.202219  0.127716 -0.418801  0.106761  0.302031 -0.936621   \n",
       "2       -0.133042 -0.196239 -0.029560  0.306849  0.073840  1.347005  0.695408   \n",
       "3       -0.138552 -0.202219  0.183453  0.567036  0.372372 -0.131731 -0.129563   \n",
       "4       -0.155081  0.013065 -0.986740  1.667574  1.596521 -0.296647 -0.056293   \n",
       "\n",
       "                7         8         9  ...       593       594       595  \\\n",
       "node_ID                                ...                                 \n",
       "0        2.152007 -0.908296  0.713842  ... -0.457901  0.002277 -0.178169   \n",
       "1       -0.980957 -0.098751  0.629780  ...  0.238544  0.461295  0.114464   \n",
       "2       -0.657161  1.141495 -1.337327  ...  0.989196 -1.283592 -1.252432   \n",
       "3        0.387311  1.669948  0.048453  ... -1.396239  0.010100  0.204658   \n",
       "4        0.792982 -0.782269  0.740889  ... -0.517946 -0.264403  0.521236   \n",
       "\n",
       "              596       597       598       599       600       601  label  \n",
       "node_ID                                                                     \n",
       "0        0.095668 -0.497469 -0.443911 -0.257895  0.311193 -0.377212     30  \n",
       "1       -0.408528 -0.331293  0.854006  0.156271  0.104781 -0.653420     17  \n",
       "2       -1.707226 -0.860897  0.809932  0.035802  0.286367  0.274413     18  \n",
       "3       -0.495959 -0.329710 -0.363401 -0.440687  0.006481  0.103306     23  \n",
       "4        1.056790 -0.498133  0.213124 -1.222432 -0.916983  0.488467     22  \n",
       "\n",
       "[5 rows x 603 columns]"
      ]
     },
     "execution_count": 11,
     "metadata": {},
     "output_type": "execute_result"
    }
   ],
   "source": [
    "node_df.head()"
   ]
  },
  {
   "cell_type": "code",
   "execution_count": 12,
   "metadata": {},
   "outputs": [
    {
     "data": {
      "text/html": [
       "<div>\n",
       "<style scoped>\n",
       "    .dataframe tbody tr th:only-of-type {\n",
       "        vertical-align: middle;\n",
       "    }\n",
       "\n",
       "    .dataframe tbody tr th {\n",
       "        vertical-align: top;\n",
       "    }\n",
       "\n",
       "    .dataframe thead th {\n",
       "        text-align: right;\n",
       "    }\n",
       "</style>\n",
       "<table border=\"1\" class=\"dataframe\">\n",
       "  <thead>\n",
       "    <tr style=\"text-align: right;\">\n",
       "      <th></th>\n",
       "      <th>from_node</th>\n",
       "      <th>to_node</th>\n",
       "    </tr>\n",
       "    <tr>\n",
       "      <th>edge_ID</th>\n",
       "      <th></th>\n",
       "      <th></th>\n",
       "    </tr>\n",
       "  </thead>\n",
       "  <tbody>\n",
       "    <tr>\n",
       "      <th>0</th>\n",
       "      <td>0</td>\n",
       "      <td>225202</td>\n",
       "    </tr>\n",
       "    <tr>\n",
       "      <th>1</th>\n",
       "      <td>0</td>\n",
       "      <td>177307</td>\n",
       "    </tr>\n",
       "    <tr>\n",
       "      <th>2</th>\n",
       "      <td>0</td>\n",
       "      <td>107546</td>\n",
       "    </tr>\n",
       "    <tr>\n",
       "      <th>3</th>\n",
       "      <td>0</td>\n",
       "      <td>15240</td>\n",
       "    </tr>\n",
       "    <tr>\n",
       "      <th>4</th>\n",
       "      <td>0</td>\n",
       "      <td>176069</td>\n",
       "    </tr>\n",
       "  </tbody>\n",
       "</table>\n",
       "</div>"
      ],
      "text/plain": [
       "         from_node  to_node\n",
       "edge_ID                    \n",
       "0                0   225202\n",
       "1                0   177307\n",
       "2                0   107546\n",
       "3                0    15240\n",
       "4                0   176069"
      ]
     },
     "execution_count": 12,
     "metadata": {},
     "output_type": "execute_result"
    }
   ],
   "source": [
    "edge_df.head()"
   ]
  },
  {
   "cell_type": "code",
   "execution_count": 79,
   "metadata": {},
   "outputs": [],
   "source": [
    "node_features = node_df[[col for col in node_df.columns if col != \"label\"]].values\n",
    "node_labels = node_df['label'].tolist() if 'label' in node_df.columns else None\n",
    "edge_features = edge_df[[col for col in edge_df.columns if col not in ['label', 'from_node', 'to_node']]].values\n",
    "edge_labels = edge_df['label'].tolist() if 'label' in edge_df.columns else None\n",
    "edge_src = edge_df['from_node'].to_numpy()\n",
    "edge_dst = edge_df['to_node'].to_numpy()"
   ]
  },
  {
   "cell_type": "markdown",
   "metadata": {},
   "source": [
    "# Turn them into DGL graph"
   ]
  },
  {
   "cell_type": "code",
   "execution_count": 16,
   "metadata": {},
   "outputs": [
    {
     "name": "stdout",
     "output_type": "stream",
     "text": [
      "Graph(num_nodes=232965, num_edges=114615892,\n",
      "      ndata_schemes={}\n",
      "      edata_schemes={})\n"
     ]
    }
   ],
   "source": [
    "g = dgl.graph((edge_src, edge_dst))\n",
    "print(g)"
   ]
  },
  {
   "cell_type": "code",
   "execution_count": 80,
   "metadata": {},
   "outputs": [],
   "source": [
    "# Loading features\n",
    "g.ndata['feat'] = torch.tensor(node_features)\n",
    "g.ndata['label'] = torch.tensor(node_labels)\n",
    "g.edata['feat'] = torch.tensor(edge_features)"
   ]
  },
  {
   "cell_type": "code",
   "execution_count": 33,
   "metadata": {},
   "outputs": [
    {
     "name": "stdout",
     "output_type": "stream",
     "text": [
      "Graph(num_nodes=232965, num_edges=114615892,\n",
      "      ndata_schemes={'feat': Scheme(shape=(602,), dtype=torch.float64)}\n",
      "      edata_schemes={'feat': Scheme(shape=(0,), dtype=torch.float64)})\n"
     ]
    }
   ],
   "source": [
    "print(g)"
   ]
  },
  {
   "cell_type": "code",
   "execution_count": 34,
   "metadata": {},
   "outputs": [
    {
     "data": {
      "text/plain": [
       "(tensor([     0,      0,      0,  ..., 232920, 232931, 232952]),\n",
       " tensor([225202, 177307, 107546,  ..., 232897, 232907, 232910]))"
      ]
     },
     "execution_count": 34,
     "metadata": {},
     "output_type": "execute_result"
    }
   ],
   "source": [
    "g.edges()"
   ]
  },
  {
   "cell_type": "markdown",
   "metadata": {},
   "source": [
    "### Querying graph structures"
   ]
  },
  {
   "cell_type": "code",
   "execution_count": 35,
   "metadata": {},
   "outputs": [
    {
     "name": "stdout",
     "output_type": "stream",
     "text": [
      "# Nodes 232965\n",
      "# Edges 114615892\n",
      "Node 0 has 2204 degree\n",
      "Destinations from Node 0: tensor([225202, 177307, 107546,  ...,  55707,  18371,  72216])\n",
      "2204 nodes presucceed Node 0\n",
      "Node 0 has 2 in_edges and 2 out_edges\n",
      "Is this multigraph? False\n",
      "Does this graph has node 329? True\n",
      "Is there an edge between 329 and 324? False\n"
     ]
    }
   ],
   "source": [
    "print(\"# Nodes\", g.number_of_nodes())\n",
    "print(\"# Edges\", g.number_of_edges())\n",
    "print(\"Node 0 has {} degree\".format(g.in_degrees(0)))\n",
    "print(\"Destinations from Node 0:\", g.successors(0))\n",
    "print(\"{} nodes presucceed Node 0\".format(len(g.predecessors(0))))\n",
    "print(\"Node 0 has {} in_edges and {} out_edges\".format(len(g.in_edges(0)), len(g.out_edges(0))))\n",
    "print(\"Is this multigraph?\", g.is_multigraph)\n",
    "print(\"Does this graph has node 329?\", g.has_nodes(329))\n",
    "print(\"Is there an edge between 329 and 324?\", g.has_edges_between(329, 324))"
   ]
  },
  {
   "cell_type": "markdown",
   "metadata": {},
   "source": [
    "# Visualizing graph"
   ]
  },
  {
   "cell_type": "code",
   "execution_count": 36,
   "metadata": {},
   "outputs": [],
   "source": [
    "import networkx as nx"
   ]
  },
  {
   "cell_type": "code",
   "execution_count": 37,
   "metadata": {
    "collapsed": true
   },
   "outputs": [
    {
     "ename": "KeyboardInterrupt",
     "evalue": "",
     "output_type": "error",
     "traceback": [
      "\u001b[0;31m---------------------------------------------------------------------------\u001b[0m",
      "\u001b[0;31mKeyboardInterrupt\u001b[0m                         Traceback (most recent call last)",
      "\u001b[0;32m<ipython-input-37-78db19ff38e9>\u001b[0m in \u001b[0;36m<module>\u001b[0;34m()\u001b[0m\n\u001b[0;32m----> 1\u001b[0;31m \u001b[0mnx_g\u001b[0m \u001b[0;34m=\u001b[0m \u001b[0mg\u001b[0m\u001b[0;34m.\u001b[0m\u001b[0mto_networkx\u001b[0m\u001b[0;34m(\u001b[0m\u001b[0;34m)\u001b[0m\u001b[0;34m.\u001b[0m\u001b[0mto_undirected\u001b[0m\u001b[0;34m(\u001b[0m\u001b[0;34m)\u001b[0m\u001b[0;34m\u001b[0m\u001b[0;34m\u001b[0m\u001b[0m\n\u001b[0m\u001b[1;32m      2\u001b[0m \u001b[0mpos\u001b[0m \u001b[0;34m=\u001b[0m \u001b[0mnx\u001b[0m\u001b[0;34m.\u001b[0m\u001b[0mkamada_kawai_layout\u001b[0m\u001b[0;34m(\u001b[0m\u001b[0mnx_g\u001b[0m\u001b[0;34m)\u001b[0m\u001b[0;34m\u001b[0m\u001b[0;34m\u001b[0m\u001b[0m\n\u001b[1;32m      3\u001b[0m \u001b[0mnx\u001b[0m\u001b[0;34m.\u001b[0m\u001b[0mdraw\u001b[0m\u001b[0;34m(\u001b[0m\u001b[0mnx_g\u001b[0m\u001b[0;34m,\u001b[0m \u001b[0mpos\u001b[0m\u001b[0;34m,\u001b[0m \u001b[0mwith_labels\u001b[0m\u001b[0;34m=\u001b[0m\u001b[0;32mTrue\u001b[0m\u001b[0;34m,\u001b[0m \u001b[0mnode_color\u001b[0m\u001b[0;34m=\u001b[0m\u001b[0;34m[\u001b[0m\u001b[0;34m[\u001b[0m\u001b[0;36m.7\u001b[0m\u001b[0;34m,\u001b[0m \u001b[0;36m.7\u001b[0m\u001b[0;34m,\u001b[0m \u001b[0;36m.7\u001b[0m\u001b[0;34m]\u001b[0m\u001b[0;34m]\u001b[0m\u001b[0;34m)\u001b[0m\u001b[0;34m\u001b[0m\u001b[0;34m\u001b[0m\u001b[0m\n",
      "\u001b[0;32m/home/teemo/.local/lib/python3.6/site-packages/dgl/convert.py\u001b[0m in \u001b[0;36mto_networkx\u001b[0;34m(g, node_attrs, edge_attrs)\u001b[0m\n\u001b[1;32m   1568\u001b[0m     \u001b[0mnx_graph\u001b[0m \u001b[0;34m=\u001b[0m \u001b[0mnx\u001b[0m\u001b[0;34m.\u001b[0m\u001b[0mMultiDiGraph\u001b[0m\u001b[0;34m(\u001b[0m\u001b[0;34m)\u001b[0m\u001b[0;34m\u001b[0m\u001b[0;34m\u001b[0m\u001b[0m\n\u001b[1;32m   1569\u001b[0m     \u001b[0mnx_graph\u001b[0m\u001b[0;34m.\u001b[0m\u001b[0madd_nodes_from\u001b[0m\u001b[0;34m(\u001b[0m\u001b[0mrange\u001b[0m\u001b[0;34m(\u001b[0m\u001b[0mg\u001b[0m\u001b[0;34m.\u001b[0m\u001b[0mnumber_of_nodes\u001b[0m\u001b[0;34m(\u001b[0m\u001b[0;34m)\u001b[0m\u001b[0;34m)\u001b[0m\u001b[0;34m)\u001b[0m\u001b[0;34m\u001b[0m\u001b[0;34m\u001b[0m\u001b[0m\n\u001b[0;32m-> 1570\u001b[0;31m     \u001b[0;32mfor\u001b[0m \u001b[0meid\u001b[0m\u001b[0;34m,\u001b[0m \u001b[0;34m(\u001b[0m\u001b[0mu\u001b[0m\u001b[0;34m,\u001b[0m \u001b[0mv\u001b[0m\u001b[0;34m)\u001b[0m \u001b[0;32min\u001b[0m \u001b[0menumerate\u001b[0m\u001b[0;34m(\u001b[0m\u001b[0mzip\u001b[0m\u001b[0;34m(\u001b[0m\u001b[0msrc\u001b[0m\u001b[0;34m,\u001b[0m \u001b[0mdst\u001b[0m\u001b[0;34m)\u001b[0m\u001b[0;34m)\u001b[0m\u001b[0;34m:\u001b[0m\u001b[0;34m\u001b[0m\u001b[0;34m\u001b[0m\u001b[0m\n\u001b[0m\u001b[1;32m   1571\u001b[0m         \u001b[0mnx_graph\u001b[0m\u001b[0;34m.\u001b[0m\u001b[0madd_edge\u001b[0m\u001b[0;34m(\u001b[0m\u001b[0mu\u001b[0m\u001b[0;34m,\u001b[0m \u001b[0mv\u001b[0m\u001b[0;34m,\u001b[0m \u001b[0mid\u001b[0m\u001b[0;34m=\u001b[0m\u001b[0meid\u001b[0m\u001b[0;34m)\u001b[0m\u001b[0;34m\u001b[0m\u001b[0;34m\u001b[0m\u001b[0m\n\u001b[1;32m   1572\u001b[0m \u001b[0;34m\u001b[0m\u001b[0m\n",
      "\u001b[0;31mKeyboardInterrupt\u001b[0m: "
     ]
    }
   ],
   "source": [
    "nx_g = g.to_networkx().to_undirected()\n",
    "pos = nx.kamada_kawai_layout(nx_g)\n",
    "nx.draw(nx_g, pos, with_labels=True, node_color=[[.7, .7, .7]])"
   ]
  },
  {
   "cell_type": "markdown",
   "metadata": {},
   "source": [
    "# AI Experiment Preprocessing (Data Split)"
   ]
  },
  {
   "cell_type": "code",
   "execution_count": 68,
   "metadata": {},
   "outputs": [
    {
     "name": "stdout",
     "output_type": "stream",
     "text": [
      "Node count in train:\t 139779\n",
      "Node count in val:\t 46593\n",
      "Node count in test:\t 46593\n",
      "Total Sum Check: True\n"
     ]
    }
   ],
   "source": [
    "train_ratio = 0.6\n",
    "val_ratio = 0.2\n",
    "test_ratio = 0.2\n",
    "node_count = len(node_features)\n",
    "\n",
    "split_index = np.zeros((node_count), dtype=np.int)\n",
    "split_index[:round(node_count * train_ratio)] = 1\n",
    "split_index[round(node_count*train_ratio): round(node_count*(train_ratio+val_ratio))] = 2\n",
    "split_index[round(node_count*(train_ratio+val_ratio)):] = 3\n",
    "\n",
    "np.random.shuffle(split_index)\n",
    "\n",
    "print(\"Node count in train:\\t\", sum(split_index == 1))\n",
    "print(\"Node count in val:\\t\", sum(split_index == 2))\n",
    "print(\"Node count in test:\\t\", sum(split_index == 3))\n",
    "print(\"Total Sum Check:\", sum(split_index == 1) + sum(split_index == 2) + sum(split_index == 3) == node_count)"
   ]
  },
  {
   "cell_type": "code",
   "execution_count": 70,
   "metadata": {},
   "outputs": [],
   "source": [
    "g.ndata['train_mask'] = torch.tensor(split_index == 1)\n",
    "g.ndata['val_mask'] = torch.tensor(split_index == 2)\n",
    "g.ndata['test_mask'] = torch.tensor(split_index == 3)"
   ]
  },
  {
   "cell_type": "code",
   "execution_count": 84,
   "metadata": {},
   "outputs": [
    {
     "name": "stdout",
     "output_type": "stream",
     "text": [
      "{'feat': tensor([[ 1.2334,  9.0430, -0.9233,  ..., -0.2579,  0.3112, -0.3772],\n",
      "        [-0.1386, -0.2022,  0.1277,  ...,  0.1563,  0.1048, -0.6534],\n",
      "        [-0.1330, -0.1962, -0.0296,  ...,  0.0358,  0.2864,  0.2744],\n",
      "        ...,\n",
      "        [-0.0614, -0.2022,  0.9698,  ...,  1.1064, -1.4323, -0.2398],\n",
      "        [-0.1606, -0.2022, -0.0892,  ...,  0.7440, -0.5046, -2.2288],\n",
      "        [ 0.0929,  0.2822,  0.1768,  ...,  0.2196,  0.5967,  0.5588]],\n",
      "       dtype=torch.float64), 'train_mask': tensor([ True,  True,  True,  ..., False,  True, False]), 'val_mask': tensor([False, False, False,  ...,  True, False,  True]), 'test_mask': tensor([False, False, False,  ..., False, False, False]), 'label': tensor([30, 17, 18,  ...,  3, 13, 13])}\n"
     ]
    }
   ],
   "source": [
    "print(g.ndata)"
   ]
  },
  {
   "cell_type": "markdown",
   "metadata": {},
   "source": [
    "# AI Experiment"
   ]
  },
  {
   "cell_type": "code",
   "execution_count": 111,
   "metadata": {},
   "outputs": [],
   "source": [
    "# Algorithm 1: GCN\n",
    "from dgl.nn import GraphConv\n",
    "class GCN(nn.Module):\n",
    "    def __init__(self, feat_dim, h_feat_dim, num_classes):\n",
    "        super(GCN, self).__init__()\n",
    "        \n",
    "        self.num_layer = len(h_feat_dim)\n",
    "        self.h_feat_dim = h_feat_dim\n",
    "        self.num_classes = num_classes\n",
    "        \n",
    "        self.layers = []\n",
    "        prev_dim = feat_dim\n",
    "        for i in range(self.num_layer):\n",
    "            print(prev_dim)\n",
    "            print(h_feat_dim[i])\n",
    "            self.layers.append(GraphConv(prev_dim, h_feat_dim[i]))\n",
    "            prev_dim = h_feat_dim[i]\n",
    "        self.layers.append(GraphConv(prev_dim, num_classes))\n",
    "        \n",
    "    def forward(self, g, in_feat):\n",
    "        prev_feat = in_feat\n",
    "        for i in len(self.num_layer-1):\n",
    "            h = self.layers[i](g, prev_feat)\n",
    "            h = F.relu(h)\n",
    "            prev_feat = h\n",
    "        h = self.layers[-1](g)"
   ]
  },
  {
   "cell_type": "code",
   "execution_count": 92,
   "metadata": {},
   "outputs": [],
   "source": [
    "feat_dim = len(node_features[0])\n",
    "num_classes = len(np.unique(node_labels))\n",
    "\n",
    "# THIS IS THE INPUTS FOR EXPERIMENTATION\n",
    "#Experimentation Scope\n",
    "\n",
    "model_types = ['GCN', 'GraphSAGE']\n",
    "aggregators = ['mean', 'max']\n",
    "h_feat_dim = [[32], [16], [8], [32, 16], [32, 8], [16, 4], [32, 16, 4]]\n",
    "activation_func = ['relu', 'sigmoid']\n",
    "loss_func = ['cross_entropy']\n",
    "optimization = ['adam', 'sgd']\n",
    "opt_learning_rate = [0.01, 0.1]\n",
    "train_iter = 100"
   ]
  },
  {
   "cell_type": "code",
   "execution_count": 95,
   "metadata": {},
   "outputs": [],
   "source": [
    "# Create an experimentation table\n",
    "tracking_values = []\n",
    "exp_ID_counter = 0\n",
    "for m in model_types:\n",
    "    for ag in aggregators:\n",
    "        for h in h_feat_dim:\n",
    "            for a in activation_func:\n",
    "                for l in loss_func:\n",
    "                    for opt in optimization:\n",
    "                        for opt_lr in opt_learning_rate:\n",
    "                            for i in range(train_iter):\n",
    "                                tracking_values.append([exp_ID_counter, i, m, ag, len(h), h, a, l, opt, opt_lr])\n",
    "                            exp_ID_counter += 1\n",
    "                            \n",
    "tracking_df = pd.DataFrame(tracking_values)\n",
    "tracking_df.columns = ['expID', 'iter', 'model', 'aggregator', 'num_layer', 'layer_dim', \n",
    "                        'activation_func', 'loss_func', 'optimization', 'opt_lr']\n",
    "\n",
    "performance_cols = ['loss', 'acc_train', 'avg_recall_train', 'avg_prec_train', 'avg_f1_train', \n",
    "                    'acc_val', 'avg_recall_val', 'avg_prec_val', 'avg_f1_val']\n",
    "\n",
    "for c in performance_cols:\n",
    "    tracking_df[c] = None"
   ]
  },
  {
   "cell_type": "code",
   "execution_count": 113,
   "metadata": {},
   "outputs": [
    {
     "data": {
      "text/html": [
       "<div>\n",
       "<style scoped>\n",
       "    .dataframe tbody tr th:only-of-type {\n",
       "        vertical-align: middle;\n",
       "    }\n",
       "\n",
       "    .dataframe tbody tr th {\n",
       "        vertical-align: top;\n",
       "    }\n",
       "\n",
       "    .dataframe thead th {\n",
       "        text-align: right;\n",
       "    }\n",
       "</style>\n",
       "<table border=\"1\" class=\"dataframe\">\n",
       "  <thead>\n",
       "    <tr style=\"text-align: right;\">\n",
       "      <th></th>\n",
       "      <th>expID</th>\n",
       "      <th>iter</th>\n",
       "      <th>model</th>\n",
       "      <th>aggregator</th>\n",
       "      <th>num_layer</th>\n",
       "      <th>layer_dim</th>\n",
       "      <th>activation_func</th>\n",
       "      <th>loss_func</th>\n",
       "      <th>optimization</th>\n",
       "      <th>opt_lr</th>\n",
       "      <th>loss</th>\n",
       "      <th>acc_train</th>\n",
       "      <th>avg_recall_train</th>\n",
       "      <th>avg_prec_train</th>\n",
       "      <th>avg_f1_train</th>\n",
       "      <th>acc_val</th>\n",
       "      <th>avg_recall_val</th>\n",
       "      <th>avg_prec_val</th>\n",
       "      <th>avg_f1_val</th>\n",
       "    </tr>\n",
       "  </thead>\n",
       "  <tbody>\n",
       "    <tr>\n",
       "      <th>0</th>\n",
       "      <td>0</td>\n",
       "      <td>0</td>\n",
       "      <td>GCN</td>\n",
       "      <td>mean</td>\n",
       "      <td>1</td>\n",
       "      <td>[32]</td>\n",
       "      <td>relu</td>\n",
       "      <td>cross_entropy</td>\n",
       "      <td>adam</td>\n",
       "      <td>0.01</td>\n",
       "      <td>None</td>\n",
       "      <td>None</td>\n",
       "      <td>None</td>\n",
       "      <td>None</td>\n",
       "      <td>None</td>\n",
       "      <td>None</td>\n",
       "      <td>None</td>\n",
       "      <td>None</td>\n",
       "      <td>None</td>\n",
       "    </tr>\n",
       "    <tr>\n",
       "      <th>1</th>\n",
       "      <td>0</td>\n",
       "      <td>1</td>\n",
       "      <td>GCN</td>\n",
       "      <td>mean</td>\n",
       "      <td>1</td>\n",
       "      <td>[32]</td>\n",
       "      <td>relu</td>\n",
       "      <td>cross_entropy</td>\n",
       "      <td>adam</td>\n",
       "      <td>0.01</td>\n",
       "      <td>None</td>\n",
       "      <td>None</td>\n",
       "      <td>None</td>\n",
       "      <td>None</td>\n",
       "      <td>None</td>\n",
       "      <td>None</td>\n",
       "      <td>None</td>\n",
       "      <td>None</td>\n",
       "      <td>None</td>\n",
       "    </tr>\n",
       "    <tr>\n",
       "      <th>2</th>\n",
       "      <td>0</td>\n",
       "      <td>2</td>\n",
       "      <td>GCN</td>\n",
       "      <td>mean</td>\n",
       "      <td>1</td>\n",
       "      <td>[32]</td>\n",
       "      <td>relu</td>\n",
       "      <td>cross_entropy</td>\n",
       "      <td>adam</td>\n",
       "      <td>0.01</td>\n",
       "      <td>None</td>\n",
       "      <td>None</td>\n",
       "      <td>None</td>\n",
       "      <td>None</td>\n",
       "      <td>None</td>\n",
       "      <td>None</td>\n",
       "      <td>None</td>\n",
       "      <td>None</td>\n",
       "      <td>None</td>\n",
       "    </tr>\n",
       "    <tr>\n",
       "      <th>3</th>\n",
       "      <td>0</td>\n",
       "      <td>3</td>\n",
       "      <td>GCN</td>\n",
       "      <td>mean</td>\n",
       "      <td>1</td>\n",
       "      <td>[32]</td>\n",
       "      <td>relu</td>\n",
       "      <td>cross_entropy</td>\n",
       "      <td>adam</td>\n",
       "      <td>0.01</td>\n",
       "      <td>None</td>\n",
       "      <td>None</td>\n",
       "      <td>None</td>\n",
       "      <td>None</td>\n",
       "      <td>None</td>\n",
       "      <td>None</td>\n",
       "      <td>None</td>\n",
       "      <td>None</td>\n",
       "      <td>None</td>\n",
       "    </tr>\n",
       "    <tr>\n",
       "      <th>4</th>\n",
       "      <td>0</td>\n",
       "      <td>4</td>\n",
       "      <td>GCN</td>\n",
       "      <td>mean</td>\n",
       "      <td>1</td>\n",
       "      <td>[32]</td>\n",
       "      <td>relu</td>\n",
       "      <td>cross_entropy</td>\n",
       "      <td>adam</td>\n",
       "      <td>0.01</td>\n",
       "      <td>None</td>\n",
       "      <td>None</td>\n",
       "      <td>None</td>\n",
       "      <td>None</td>\n",
       "      <td>None</td>\n",
       "      <td>None</td>\n",
       "      <td>None</td>\n",
       "      <td>None</td>\n",
       "      <td>None</td>\n",
       "    </tr>\n",
       "  </tbody>\n",
       "</table>\n",
       "</div>"
      ],
      "text/plain": [
       "   expID  iter model aggregator  num_layer layer_dim activation_func  \\\n",
       "0      0     0   GCN       mean          1      [32]            relu   \n",
       "1      0     1   GCN       mean          1      [32]            relu   \n",
       "2      0     2   GCN       mean          1      [32]            relu   \n",
       "3      0     3   GCN       mean          1      [32]            relu   \n",
       "4      0     4   GCN       mean          1      [32]            relu   \n",
       "\n",
       "       loss_func optimization  opt_lr  loss acc_train avg_recall_train  \\\n",
       "0  cross_entropy         adam    0.01  None      None             None   \n",
       "1  cross_entropy         adam    0.01  None      None             None   \n",
       "2  cross_entropy         adam    0.01  None      None             None   \n",
       "3  cross_entropy         adam    0.01  None      None             None   \n",
       "4  cross_entropy         adam    0.01  None      None             None   \n",
       "\n",
       "  avg_prec_train avg_f1_train acc_val avg_recall_val avg_prec_val avg_f1_val  \n",
       "0           None         None    None           None         None       None  \n",
       "1           None         None    None           None         None       None  \n",
       "2           None         None    None           None         None       None  \n",
       "3           None         None    None           None         None       None  \n",
       "4           None         None    None           None         None       None  "
      ]
     },
     "execution_count": 113,
     "metadata": {},
     "output_type": "execute_result"
    }
   ],
   "source": [
    "tracking_df.head()"
   ]
  },
  {
   "cell_type": "code",
   "execution_count": 123,
   "metadata": {},
   "outputs": [],
   "source": [
    "def get_optimizer(model, optimizer_type, learning_rate):\n",
    "    print(model.parameters())\n",
    "    if optimizer_type == \"adam\":\n",
    "        optimizer = torch.optim.Adam(model.parameters(), lr = learning_rate)\n",
    "    elif optimizer_type == \"sgd\":\n",
    "        optimizer = torch.optim.SGD(model.parameters(), lr = learning_rate)\n",
    "    else:\n",
    "        print(optimizer_type, \"is currently not supported!\")\n",
    "        return None\n",
    "    return optimizer\n",
    "\n",
    "def run_node_clf_exp(g, train_iter, h_feat_dim, optimizer_type, opt_lr, loss_func):\n",
    "    model = GCN(g.ndata['feat'].shape[1], h_feat_dim, len(g.ndata['label'].unique()))\n",
    "    optimizer = get_optimizer(model, optimizer_type, opt_lr)\n",
    "    \n",
    "    best_train_acc = 0\n",
    "    best_val_acc = 0\n",
    "    best_test_acc = 0\n",
    "    \n",
    "    features = g.ndata['feat']\n",
    "    labels = g.ndata['label']\n",
    "    train_mask = g.ndata['train_mask']\n",
    "    val_mask = g.ndata['val_mask']\n",
    "    test_mask = g.ndata['test_mask']\n",
    "    \n",
    "    for e in range(train_iter):\n",
    "        logits = model(g, features)   # forward\n",
    "        pred = logits.argmax(1)       # compute prediction\n",
    "        \n",
    "        # TODO check the loss function type. Currently only cross entropy is supported\n",
    "        loss = F.cross_entropy(logits[train_mask], labels[train_mask])\n",
    "        train_acc = (pred[train_mask] == labels[train_mask]).float().mean()\n",
    "        val_acc = (pred[train_mask] == labels[val_mask]).float().mean()\n",
    "        test_acc = (pred[train_mask] == labels[test_mask]).float().mean()\n",
    "        \n",
    "        # Save the best validation accuracy\n",
    "        if best_val_acc < val_acc:\n",
    "            best_val_acc = val_acc\n",
    "            best_test_acc = test_acc\n",
    "            \n",
    "        # Backward prop\n",
    "        optimizer.zero_grad()\n",
    "        loss.backward()\n",
    "        optimizer.step()\n",
    "        \n",
    "        if e%5 == 0:\n",
    "            print(\"In epoch {}, loss: {:.3f}, val acc: {:.3f}, test acc: {.3f} (best{:.3f})\".format(\n",
    "                e, loss, val_acc, best_val_acc, test_acc, best_test_all))"
   ]
  },
  {
   "cell_type": "code",
   "execution_count": 125,
   "metadata": {},
   "outputs": [
    {
     "name": "stdout",
     "output_type": "stream",
     "text": [
      "602\n",
      "32\n"
     ]
    }
   ],
   "source": [
    "model = GCN(g.ndata['feat'].shape[1], [32], len(g.ndata['label'].unique()))"
   ]
  },
  {
   "cell_type": "code",
   "execution_count": 126,
   "metadata": {},
   "outputs": [
    {
     "data": {
      "text/plain": [
       "<generator object Module.parameters at 0x7fcc3d748258>"
      ]
     },
     "execution_count": 126,
     "metadata": {},
     "output_type": "execute_result"
    }
   ],
   "source": [
    "model.parameters()"
   ]
  },
  {
   "cell_type": "code",
   "execution_count": 127,
   "metadata": {},
   "outputs": [
    {
     "ename": "ValueError",
     "evalue": "optimizer got an empty parameter list",
     "output_type": "error",
     "traceback": [
      "\u001b[0;31m---------------------------------------------------------------------------\u001b[0m",
      "\u001b[0;31mValueError\u001b[0m                                Traceback (most recent call last)",
      "\u001b[0;32m<ipython-input-127-9e40a36b4cf3>\u001b[0m in \u001b[0;36m<module>\u001b[0;34m()\u001b[0m\n\u001b[0;32m----> 1\u001b[0;31m \u001b[0mtorch\u001b[0m\u001b[0;34m.\u001b[0m\u001b[0moptim\u001b[0m\u001b[0;34m.\u001b[0m\u001b[0mAdam\u001b[0m\u001b[0;34m(\u001b[0m\u001b[0mmodel\u001b[0m\u001b[0;34m.\u001b[0m\u001b[0mparameters\u001b[0m\u001b[0;34m(\u001b[0m\u001b[0;34m)\u001b[0m\u001b[0;34m,\u001b[0m \u001b[0mlr\u001b[0m\u001b[0;34m=\u001b[0m\u001b[0;36m0.01\u001b[0m\u001b[0;34m)\u001b[0m\u001b[0;34m\u001b[0m\u001b[0;34m\u001b[0m\u001b[0m\n\u001b[0m",
      "\u001b[0;32m/home/teemo/.local/lib/python3.6/site-packages/torch/optim/adam.py\u001b[0m in \u001b[0;36m__init__\u001b[0;34m(self, params, lr, betas, eps, weight_decay, amsgrad)\u001b[0m\n\u001b[1;32m     46\u001b[0m         defaults = dict(lr=lr, betas=betas, eps=eps,\n\u001b[1;32m     47\u001b[0m                         weight_decay=weight_decay, amsgrad=amsgrad)\n\u001b[0;32m---> 48\u001b[0;31m         \u001b[0msuper\u001b[0m\u001b[0;34m(\u001b[0m\u001b[0mAdam\u001b[0m\u001b[0;34m,\u001b[0m \u001b[0mself\u001b[0m\u001b[0;34m)\u001b[0m\u001b[0;34m.\u001b[0m\u001b[0m__init__\u001b[0m\u001b[0;34m(\u001b[0m\u001b[0mparams\u001b[0m\u001b[0;34m,\u001b[0m \u001b[0mdefaults\u001b[0m\u001b[0;34m)\u001b[0m\u001b[0;34m\u001b[0m\u001b[0;34m\u001b[0m\u001b[0m\n\u001b[0m\u001b[1;32m     49\u001b[0m \u001b[0;34m\u001b[0m\u001b[0m\n\u001b[1;32m     50\u001b[0m     \u001b[0;32mdef\u001b[0m \u001b[0m__setstate__\u001b[0m\u001b[0;34m(\u001b[0m\u001b[0mself\u001b[0m\u001b[0;34m,\u001b[0m \u001b[0mstate\u001b[0m\u001b[0;34m)\u001b[0m\u001b[0;34m:\u001b[0m\u001b[0;34m\u001b[0m\u001b[0;34m\u001b[0m\u001b[0m\n",
      "\u001b[0;32m/home/teemo/.local/lib/python3.6/site-packages/torch/optim/optimizer.py\u001b[0m in \u001b[0;36m__init__\u001b[0;34m(self, params, defaults)\u001b[0m\n\u001b[1;32m     47\u001b[0m         \u001b[0mparam_groups\u001b[0m \u001b[0;34m=\u001b[0m \u001b[0mlist\u001b[0m\u001b[0;34m(\u001b[0m\u001b[0mparams\u001b[0m\u001b[0;34m)\u001b[0m\u001b[0;34m\u001b[0m\u001b[0;34m\u001b[0m\u001b[0m\n\u001b[1;32m     48\u001b[0m         \u001b[0;32mif\u001b[0m \u001b[0mlen\u001b[0m\u001b[0;34m(\u001b[0m\u001b[0mparam_groups\u001b[0m\u001b[0;34m)\u001b[0m \u001b[0;34m==\u001b[0m \u001b[0;36m0\u001b[0m\u001b[0;34m:\u001b[0m\u001b[0;34m\u001b[0m\u001b[0;34m\u001b[0m\u001b[0m\n\u001b[0;32m---> 49\u001b[0;31m             \u001b[0;32mraise\u001b[0m \u001b[0mValueError\u001b[0m\u001b[0;34m(\u001b[0m\u001b[0;34m\"optimizer got an empty parameter list\"\u001b[0m\u001b[0;34m)\u001b[0m\u001b[0;34m\u001b[0m\u001b[0;34m\u001b[0m\u001b[0m\n\u001b[0m\u001b[1;32m     50\u001b[0m         \u001b[0;32mif\u001b[0m \u001b[0;32mnot\u001b[0m \u001b[0misinstance\u001b[0m\u001b[0;34m(\u001b[0m\u001b[0mparam_groups\u001b[0m\u001b[0;34m[\u001b[0m\u001b[0;36m0\u001b[0m\u001b[0;34m]\u001b[0m\u001b[0;34m,\u001b[0m \u001b[0mdict\u001b[0m\u001b[0;34m)\u001b[0m\u001b[0;34m:\u001b[0m\u001b[0;34m\u001b[0m\u001b[0;34m\u001b[0m\u001b[0m\n\u001b[1;32m     51\u001b[0m             \u001b[0mparam_groups\u001b[0m \u001b[0;34m=\u001b[0m \u001b[0;34m[\u001b[0m\u001b[0;34m{\u001b[0m\u001b[0;34m'params'\u001b[0m\u001b[0;34m:\u001b[0m \u001b[0mparam_groups\u001b[0m\u001b[0;34m}\u001b[0m\u001b[0;34m]\u001b[0m\u001b[0;34m\u001b[0m\u001b[0;34m\u001b[0m\u001b[0m\n",
      "\u001b[0;31mValueError\u001b[0m: optimizer got an empty parameter list"
     ]
    }
   ],
   "source": [
    "torch.optim.Adam(model.parameters(), lr=0.01)"
   ]
  },
  {
   "cell_type": "code",
   "execution_count": 124,
   "metadata": {},
   "outputs": [
    {
     "name": "stdout",
     "output_type": "stream",
     "text": [
      "GCN mean [32] relu cross_entropy adam 0.01\n",
      "602\n",
      "32\n",
      "<generator object Module.parameters at 0x7fcc3d7481a8>\n"
     ]
    },
    {
     "ename": "ValueError",
     "evalue": "optimizer got an empty parameter list",
     "output_type": "error",
     "traceback": [
      "\u001b[0;31m---------------------------------------------------------------------------\u001b[0m",
      "\u001b[0;31mValueError\u001b[0m                                Traceback (most recent call last)",
      "\u001b[0;32m<ipython-input-124-e709c662dd15>\u001b[0m in \u001b[0;36m<module>\u001b[0;34m()\u001b[0m\n\u001b[1;32m     10\u001b[0m     \u001b[0mprint\u001b[0m\u001b[0;34m(\u001b[0m\u001b[0mm\u001b[0m\u001b[0;34m,\u001b[0m \u001b[0mag\u001b[0m\u001b[0;34m,\u001b[0m \u001b[0mh\u001b[0m\u001b[0;34m,\u001b[0m \u001b[0ma\u001b[0m\u001b[0;34m,\u001b[0m \u001b[0ml\u001b[0m\u001b[0;34m,\u001b[0m \u001b[0mopt\u001b[0m\u001b[0;34m,\u001b[0m \u001b[0mlr\u001b[0m\u001b[0;34m)\u001b[0m\u001b[0;34m\u001b[0m\u001b[0;34m\u001b[0m\u001b[0m\n\u001b[1;32m     11\u001b[0m \u001b[0;34m\u001b[0m\u001b[0m\n\u001b[0;32m---> 12\u001b[0;31m     \u001b[0mrun_node_clf_exp\u001b[0m\u001b[0;34m(\u001b[0m\u001b[0mg\u001b[0m\u001b[0;34m,\u001b[0m \u001b[0;36m10\u001b[0m\u001b[0;34m,\u001b[0m \u001b[0mh\u001b[0m\u001b[0;34m,\u001b[0m \u001b[0mopt\u001b[0m\u001b[0;34m,\u001b[0m \u001b[0mlr\u001b[0m\u001b[0;34m,\u001b[0m \u001b[0ml\u001b[0m\u001b[0;34m)\u001b[0m\u001b[0;34m\u001b[0m\u001b[0;34m\u001b[0m\u001b[0m\n\u001b[0m\u001b[1;32m     13\u001b[0m     \u001b[0;32mbreak\u001b[0m\u001b[0;34m\u001b[0m\u001b[0;34m\u001b[0m\u001b[0m\n",
      "\u001b[0;32m<ipython-input-123-026c75a9d067>\u001b[0m in \u001b[0;36mrun_node_clf_exp\u001b[0;34m(g, train_iter, h_feat_dim, optimizer_type, opt_lr, loss_func)\u001b[0m\n\u001b[1;32m     12\u001b[0m \u001b[0;32mdef\u001b[0m \u001b[0mrun_node_clf_exp\u001b[0m\u001b[0;34m(\u001b[0m\u001b[0mg\u001b[0m\u001b[0;34m,\u001b[0m \u001b[0mtrain_iter\u001b[0m\u001b[0;34m,\u001b[0m \u001b[0mh_feat_dim\u001b[0m\u001b[0;34m,\u001b[0m \u001b[0moptimizer_type\u001b[0m\u001b[0;34m,\u001b[0m \u001b[0mopt_lr\u001b[0m\u001b[0;34m,\u001b[0m \u001b[0mloss_func\u001b[0m\u001b[0;34m)\u001b[0m\u001b[0;34m:\u001b[0m\u001b[0;34m\u001b[0m\u001b[0;34m\u001b[0m\u001b[0m\n\u001b[1;32m     13\u001b[0m     \u001b[0mmodel\u001b[0m \u001b[0;34m=\u001b[0m \u001b[0mGCN\u001b[0m\u001b[0;34m(\u001b[0m\u001b[0mg\u001b[0m\u001b[0;34m.\u001b[0m\u001b[0mndata\u001b[0m\u001b[0;34m[\u001b[0m\u001b[0;34m'feat'\u001b[0m\u001b[0;34m]\u001b[0m\u001b[0;34m.\u001b[0m\u001b[0mshape\u001b[0m\u001b[0;34m[\u001b[0m\u001b[0;36m1\u001b[0m\u001b[0;34m]\u001b[0m\u001b[0;34m,\u001b[0m \u001b[0mh_feat_dim\u001b[0m\u001b[0;34m,\u001b[0m \u001b[0mlen\u001b[0m\u001b[0;34m(\u001b[0m\u001b[0mg\u001b[0m\u001b[0;34m.\u001b[0m\u001b[0mndata\u001b[0m\u001b[0;34m[\u001b[0m\u001b[0;34m'label'\u001b[0m\u001b[0;34m]\u001b[0m\u001b[0;34m.\u001b[0m\u001b[0munique\u001b[0m\u001b[0;34m(\u001b[0m\u001b[0;34m)\u001b[0m\u001b[0;34m)\u001b[0m\u001b[0;34m)\u001b[0m\u001b[0;34m\u001b[0m\u001b[0;34m\u001b[0m\u001b[0m\n\u001b[0;32m---> 14\u001b[0;31m     \u001b[0moptimizer\u001b[0m \u001b[0;34m=\u001b[0m \u001b[0mget_optimizer\u001b[0m\u001b[0;34m(\u001b[0m\u001b[0mmodel\u001b[0m\u001b[0;34m,\u001b[0m \u001b[0moptimizer_type\u001b[0m\u001b[0;34m,\u001b[0m \u001b[0mopt_lr\u001b[0m\u001b[0;34m)\u001b[0m\u001b[0;34m\u001b[0m\u001b[0;34m\u001b[0m\u001b[0m\n\u001b[0m\u001b[1;32m     15\u001b[0m \u001b[0;34m\u001b[0m\u001b[0m\n\u001b[1;32m     16\u001b[0m     \u001b[0mbest_train_acc\u001b[0m \u001b[0;34m=\u001b[0m \u001b[0;36m0\u001b[0m\u001b[0;34m\u001b[0m\u001b[0;34m\u001b[0m\u001b[0m\n",
      "\u001b[0;32m<ipython-input-123-026c75a9d067>\u001b[0m in \u001b[0;36mget_optimizer\u001b[0;34m(model, optimizer_type, learning_rate)\u001b[0m\n\u001b[1;32m      2\u001b[0m     \u001b[0mprint\u001b[0m\u001b[0;34m(\u001b[0m\u001b[0mmodel\u001b[0m\u001b[0;34m.\u001b[0m\u001b[0mparameters\u001b[0m\u001b[0;34m(\u001b[0m\u001b[0;34m)\u001b[0m\u001b[0;34m)\u001b[0m\u001b[0;34m\u001b[0m\u001b[0;34m\u001b[0m\u001b[0m\n\u001b[1;32m      3\u001b[0m     \u001b[0;32mif\u001b[0m \u001b[0moptimizer_type\u001b[0m \u001b[0;34m==\u001b[0m \u001b[0;34m\"adam\"\u001b[0m\u001b[0;34m:\u001b[0m\u001b[0;34m\u001b[0m\u001b[0;34m\u001b[0m\u001b[0m\n\u001b[0;32m----> 4\u001b[0;31m         \u001b[0moptimizer\u001b[0m \u001b[0;34m=\u001b[0m \u001b[0mtorch\u001b[0m\u001b[0;34m.\u001b[0m\u001b[0moptim\u001b[0m\u001b[0;34m.\u001b[0m\u001b[0mAdam\u001b[0m\u001b[0;34m(\u001b[0m\u001b[0mmodel\u001b[0m\u001b[0;34m.\u001b[0m\u001b[0mparameters\u001b[0m\u001b[0;34m(\u001b[0m\u001b[0;34m)\u001b[0m\u001b[0;34m,\u001b[0m \u001b[0mlr\u001b[0m \u001b[0;34m=\u001b[0m \u001b[0mlearning_rate\u001b[0m\u001b[0;34m)\u001b[0m\u001b[0;34m\u001b[0m\u001b[0;34m\u001b[0m\u001b[0m\n\u001b[0m\u001b[1;32m      5\u001b[0m     \u001b[0;32melif\u001b[0m \u001b[0moptimizer_type\u001b[0m \u001b[0;34m==\u001b[0m \u001b[0;34m\"sgd\"\u001b[0m\u001b[0;34m:\u001b[0m\u001b[0;34m\u001b[0m\u001b[0;34m\u001b[0m\u001b[0m\n\u001b[1;32m      6\u001b[0m         \u001b[0moptimizer\u001b[0m \u001b[0;34m=\u001b[0m \u001b[0mtorch\u001b[0m\u001b[0;34m.\u001b[0m\u001b[0moptim\u001b[0m\u001b[0;34m.\u001b[0m\u001b[0mSGD\u001b[0m\u001b[0;34m(\u001b[0m\u001b[0mmodel\u001b[0m\u001b[0;34m.\u001b[0m\u001b[0mparameters\u001b[0m\u001b[0;34m(\u001b[0m\u001b[0;34m)\u001b[0m\u001b[0;34m,\u001b[0m \u001b[0mlr\u001b[0m \u001b[0;34m=\u001b[0m \u001b[0mlearning_rate\u001b[0m\u001b[0;34m)\u001b[0m\u001b[0;34m\u001b[0m\u001b[0;34m\u001b[0m\u001b[0m\n",
      "\u001b[0;32m/home/teemo/.local/lib/python3.6/site-packages/torch/optim/adam.py\u001b[0m in \u001b[0;36m__init__\u001b[0;34m(self, params, lr, betas, eps, weight_decay, amsgrad)\u001b[0m\n\u001b[1;32m     46\u001b[0m         defaults = dict(lr=lr, betas=betas, eps=eps,\n\u001b[1;32m     47\u001b[0m                         weight_decay=weight_decay, amsgrad=amsgrad)\n\u001b[0;32m---> 48\u001b[0;31m         \u001b[0msuper\u001b[0m\u001b[0;34m(\u001b[0m\u001b[0mAdam\u001b[0m\u001b[0;34m,\u001b[0m \u001b[0mself\u001b[0m\u001b[0;34m)\u001b[0m\u001b[0;34m.\u001b[0m\u001b[0m__init__\u001b[0m\u001b[0;34m(\u001b[0m\u001b[0mparams\u001b[0m\u001b[0;34m,\u001b[0m \u001b[0mdefaults\u001b[0m\u001b[0;34m)\u001b[0m\u001b[0;34m\u001b[0m\u001b[0;34m\u001b[0m\u001b[0m\n\u001b[0m\u001b[1;32m     49\u001b[0m \u001b[0;34m\u001b[0m\u001b[0m\n\u001b[1;32m     50\u001b[0m     \u001b[0;32mdef\u001b[0m \u001b[0m__setstate__\u001b[0m\u001b[0;34m(\u001b[0m\u001b[0mself\u001b[0m\u001b[0;34m,\u001b[0m \u001b[0mstate\u001b[0m\u001b[0;34m)\u001b[0m\u001b[0;34m:\u001b[0m\u001b[0;34m\u001b[0m\u001b[0;34m\u001b[0m\u001b[0m\n",
      "\u001b[0;32m/home/teemo/.local/lib/python3.6/site-packages/torch/optim/optimizer.py\u001b[0m in \u001b[0;36m__init__\u001b[0;34m(self, params, defaults)\u001b[0m\n\u001b[1;32m     47\u001b[0m         \u001b[0mparam_groups\u001b[0m \u001b[0;34m=\u001b[0m \u001b[0mlist\u001b[0m\u001b[0;34m(\u001b[0m\u001b[0mparams\u001b[0m\u001b[0;34m)\u001b[0m\u001b[0;34m\u001b[0m\u001b[0;34m\u001b[0m\u001b[0m\n\u001b[1;32m     48\u001b[0m         \u001b[0;32mif\u001b[0m \u001b[0mlen\u001b[0m\u001b[0;34m(\u001b[0m\u001b[0mparam_groups\u001b[0m\u001b[0;34m)\u001b[0m \u001b[0;34m==\u001b[0m \u001b[0;36m0\u001b[0m\u001b[0;34m:\u001b[0m\u001b[0;34m\u001b[0m\u001b[0;34m\u001b[0m\u001b[0m\n\u001b[0;32m---> 49\u001b[0;31m             \u001b[0;32mraise\u001b[0m \u001b[0mValueError\u001b[0m\u001b[0;34m(\u001b[0m\u001b[0;34m\"optimizer got an empty parameter list\"\u001b[0m\u001b[0;34m)\u001b[0m\u001b[0;34m\u001b[0m\u001b[0;34m\u001b[0m\u001b[0m\n\u001b[0m\u001b[1;32m     50\u001b[0m         \u001b[0;32mif\u001b[0m \u001b[0;32mnot\u001b[0m \u001b[0misinstance\u001b[0m\u001b[0;34m(\u001b[0m\u001b[0mparam_groups\u001b[0m\u001b[0;34m[\u001b[0m\u001b[0;36m0\u001b[0m\u001b[0;34m]\u001b[0m\u001b[0;34m,\u001b[0m \u001b[0mdict\u001b[0m\u001b[0;34m)\u001b[0m\u001b[0;34m:\u001b[0m\u001b[0;34m\u001b[0m\u001b[0;34m\u001b[0m\u001b[0m\n\u001b[1;32m     51\u001b[0m             \u001b[0mparam_groups\u001b[0m \u001b[0;34m=\u001b[0m \u001b[0;34m[\u001b[0m\u001b[0;34m{\u001b[0m\u001b[0;34m'params'\u001b[0m\u001b[0;34m:\u001b[0m \u001b[0mparam_groups\u001b[0m\u001b[0;34m}\u001b[0m\u001b[0;34m]\u001b[0m\u001b[0;34m\u001b[0m\u001b[0;34m\u001b[0m\u001b[0m\n",
      "\u001b[0;31mValueError\u001b[0m: optimizer got an empty parameter list"
     ]
    }
   ],
   "source": [
    "for ind, row in tracking_df.iterrows():\n",
    "    m = row['model']\n",
    "    ag = row['aggregator']\n",
    "    h = row['layer_dim']\n",
    "    a = row['activation_func']\n",
    "    l = row['loss_func']\n",
    "    opt = row['optimization']\n",
    "    lr = row['opt_lr']\n",
    "    \n",
    "    print(m, ag, h, a, l, opt, lr)\n",
    "    \n",
    "    run_node_clf_exp(g, 10, h, opt, lr, l)\n",
    "    break"
   ]
  },
  {
   "cell_type": "code",
   "execution_count": null,
   "metadata": {},
   "outputs": [],
   "source": [
    "# train\n",
    "optimizer = torch.optim.Adam(model.parameters)"
   ]
  }
 ],
 "metadata": {
  "kernelspec": {
   "display_name": "Python 3",
   "language": "python",
   "name": "python3"
  },
  "language_info": {
   "codemirror_mode": {
    "name": "ipython",
    "version": 3
   },
   "file_extension": ".py",
   "mimetype": "text/x-python",
   "name": "python",
   "nbconvert_exporter": "python",
   "pygments_lexer": "ipython3",
   "version": "3.6.9"
  }
 },
 "nbformat": 4,
 "nbformat_minor": 2
}
